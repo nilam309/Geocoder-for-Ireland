{
  "nbformat": 4,
  "nbformat_minor": 0,
  "metadata": {
    "colab": {
      "name": "Geocode.ipynb",
      "provenance": [],
      "collapsed_sections": [],
      "machine_shape": "hm"
    },
    "kernelspec": {
      "name": "python3",
      "display_name": "Python 3"
    },
    "language_info": {
      "name": "python"
    },
    "accelerator": "GPU"
  },
  "cells": [
    {
      "cell_type": "code",
      "source": [
        "pip install geopandas"
      ],
      "metadata": {
        "colab": {
          "base_uri": "https://localhost:8080/"
        },
        "id": "Lo_vF0tvUPgq",
        "outputId": "36bf5629-d03e-496e-f4aa-c1be64c5b93e"
      },
      "execution_count": 1,
      "outputs": [
        {
          "output_type": "stream",
          "name": "stdout",
          "text": [
            "Collecting geopandas\n",
            "  Downloading geopandas-0.10.2-py2.py3-none-any.whl (1.0 MB)\n",
            "\u001b[?25l\r\u001b[K     |▎                               | 10 kB 27.2 MB/s eta 0:00:01\r\u001b[K     |▋                               | 20 kB 8.1 MB/s eta 0:00:01\r\u001b[K     |█                               | 30 kB 7.3 MB/s eta 0:00:01\r\u001b[K     |█▎                              | 40 kB 6.9 MB/s eta 0:00:01\r\u001b[K     |█▋                              | 51 kB 4.1 MB/s eta 0:00:01\r\u001b[K     |██                              | 61 kB 4.3 MB/s eta 0:00:01\r\u001b[K     |██▎                             | 71 kB 4.3 MB/s eta 0:00:01\r\u001b[K     |██▌                             | 81 kB 4.9 MB/s eta 0:00:01\r\u001b[K     |██▉                             | 92 kB 5.3 MB/s eta 0:00:01\r\u001b[K     |███▏                            | 102 kB 4.3 MB/s eta 0:00:01\r\u001b[K     |███▌                            | 112 kB 4.3 MB/s eta 0:00:01\r\u001b[K     |███▉                            | 122 kB 4.3 MB/s eta 0:00:01\r\u001b[K     |████▏                           | 133 kB 4.3 MB/s eta 0:00:01\r\u001b[K     |████▌                           | 143 kB 4.3 MB/s eta 0:00:01\r\u001b[K     |████▊                           | 153 kB 4.3 MB/s eta 0:00:01\r\u001b[K     |█████                           | 163 kB 4.3 MB/s eta 0:00:01\r\u001b[K     |█████▍                          | 174 kB 4.3 MB/s eta 0:00:01\r\u001b[K     |█████▊                          | 184 kB 4.3 MB/s eta 0:00:01\r\u001b[K     |██████                          | 194 kB 4.3 MB/s eta 0:00:01\r\u001b[K     |██████▍                         | 204 kB 4.3 MB/s eta 0:00:01\r\u001b[K     |██████▊                         | 215 kB 4.3 MB/s eta 0:00:01\r\u001b[K     |███████                         | 225 kB 4.3 MB/s eta 0:00:01\r\u001b[K     |███████▎                        | 235 kB 4.3 MB/s eta 0:00:01\r\u001b[K     |███████▋                        | 245 kB 4.3 MB/s eta 0:00:01\r\u001b[K     |████████                        | 256 kB 4.3 MB/s eta 0:00:01\r\u001b[K     |████████▎                       | 266 kB 4.3 MB/s eta 0:00:01\r\u001b[K     |████████▋                       | 276 kB 4.3 MB/s eta 0:00:01\r\u001b[K     |█████████                       | 286 kB 4.3 MB/s eta 0:00:01\r\u001b[K     |█████████▏                      | 296 kB 4.3 MB/s eta 0:00:01\r\u001b[K     |█████████▌                      | 307 kB 4.3 MB/s eta 0:00:01\r\u001b[K     |█████████▉                      | 317 kB 4.3 MB/s eta 0:00:01\r\u001b[K     |██████████▏                     | 327 kB 4.3 MB/s eta 0:00:01\r\u001b[K     |██████████▌                     | 337 kB 4.3 MB/s eta 0:00:01\r\u001b[K     |██████████▉                     | 348 kB 4.3 MB/s eta 0:00:01\r\u001b[K     |███████████▏                    | 358 kB 4.3 MB/s eta 0:00:01\r\u001b[K     |███████████▍                    | 368 kB 4.3 MB/s eta 0:00:01\r\u001b[K     |███████████▊                    | 378 kB 4.3 MB/s eta 0:00:01\r\u001b[K     |████████████                    | 389 kB 4.3 MB/s eta 0:00:01\r\u001b[K     |████████████▍                   | 399 kB 4.3 MB/s eta 0:00:01\r\u001b[K     |████████████▊                   | 409 kB 4.3 MB/s eta 0:00:01\r\u001b[K     |█████████████                   | 419 kB 4.3 MB/s eta 0:00:01\r\u001b[K     |█████████████▍                  | 430 kB 4.3 MB/s eta 0:00:01\r\u001b[K     |█████████████▋                  | 440 kB 4.3 MB/s eta 0:00:01\r\u001b[K     |██████████████                  | 450 kB 4.3 MB/s eta 0:00:01\r\u001b[K     |██████████████▎                 | 460 kB 4.3 MB/s eta 0:00:01\r\u001b[K     |██████████████▋                 | 471 kB 4.3 MB/s eta 0:00:01\r\u001b[K     |███████████████                 | 481 kB 4.3 MB/s eta 0:00:01\r\u001b[K     |███████████████▎                | 491 kB 4.3 MB/s eta 0:00:01\r\u001b[K     |███████████████▋                | 501 kB 4.3 MB/s eta 0:00:01\r\u001b[K     |███████████████▉                | 512 kB 4.3 MB/s eta 0:00:01\r\u001b[K     |████████████████▏               | 522 kB 4.3 MB/s eta 0:00:01\r\u001b[K     |████████████████▌               | 532 kB 4.3 MB/s eta 0:00:01\r\u001b[K     |████████████████▉               | 542 kB 4.3 MB/s eta 0:00:01\r\u001b[K     |█████████████████▏              | 552 kB 4.3 MB/s eta 0:00:01\r\u001b[K     |█████████████████▌              | 563 kB 4.3 MB/s eta 0:00:01\r\u001b[K     |█████████████████▉              | 573 kB 4.3 MB/s eta 0:00:01\r\u001b[K     |██████████████████              | 583 kB 4.3 MB/s eta 0:00:01\r\u001b[K     |██████████████████▍             | 593 kB 4.3 MB/s eta 0:00:01\r\u001b[K     |██████████████████▊             | 604 kB 4.3 MB/s eta 0:00:01\r\u001b[K     |███████████████████             | 614 kB 4.3 MB/s eta 0:00:01\r\u001b[K     |███████████████████▍            | 624 kB 4.3 MB/s eta 0:00:01\r\u001b[K     |███████████████████▊            | 634 kB 4.3 MB/s eta 0:00:01\r\u001b[K     |████████████████████            | 645 kB 4.3 MB/s eta 0:00:01\r\u001b[K     |████████████████████▎           | 655 kB 4.3 MB/s eta 0:00:01\r\u001b[K     |████████████████████▋           | 665 kB 4.3 MB/s eta 0:00:01\r\u001b[K     |█████████████████████           | 675 kB 4.3 MB/s eta 0:00:01\r\u001b[K     |█████████████████████▎          | 686 kB 4.3 MB/s eta 0:00:01\r\u001b[K     |█████████████████████▋          | 696 kB 4.3 MB/s eta 0:00:01\r\u001b[K     |██████████████████████          | 706 kB 4.3 MB/s eta 0:00:01\r\u001b[K     |██████████████████████▎         | 716 kB 4.3 MB/s eta 0:00:01\r\u001b[K     |██████████████████████▋         | 727 kB 4.3 MB/s eta 0:00:01\r\u001b[K     |██████████████████████▉         | 737 kB 4.3 MB/s eta 0:00:01\r\u001b[K     |███████████████████████▏        | 747 kB 4.3 MB/s eta 0:00:01\r\u001b[K     |███████████████████████▌        | 757 kB 4.3 MB/s eta 0:00:01\r\u001b[K     |███████████████████████▉        | 768 kB 4.3 MB/s eta 0:00:01\r\u001b[K     |████████████████████████▏       | 778 kB 4.3 MB/s eta 0:00:01\r\u001b[K     |████████████████████████▌       | 788 kB 4.3 MB/s eta 0:00:01\r\u001b[K     |████████████████████████▉       | 798 kB 4.3 MB/s eta 0:00:01\r\u001b[K     |█████████████████████████       | 808 kB 4.3 MB/s eta 0:00:01\r\u001b[K     |█████████████████████████▍      | 819 kB 4.3 MB/s eta 0:00:01\r\u001b[K     |█████████████████████████▊      | 829 kB 4.3 MB/s eta 0:00:01\r\u001b[K     |██████████████████████████      | 839 kB 4.3 MB/s eta 0:00:01\r\u001b[K     |██████████████████████████▍     | 849 kB 4.3 MB/s eta 0:00:01\r\u001b[K     |██████████████████████████▊     | 860 kB 4.3 MB/s eta 0:00:01\r\u001b[K     |███████████████████████████     | 870 kB 4.3 MB/s eta 0:00:01\r\u001b[K     |███████████████████████████▎    | 880 kB 4.3 MB/s eta 0:00:01\r\u001b[K     |███████████████████████████▋    | 890 kB 4.3 MB/s eta 0:00:01\r\u001b[K     |████████████████████████████    | 901 kB 4.3 MB/s eta 0:00:01\r\u001b[K     |████████████████████████████▎   | 911 kB 4.3 MB/s eta 0:00:01\r\u001b[K     |████████████████████████████▋   | 921 kB 4.3 MB/s eta 0:00:01\r\u001b[K     |█████████████████████████████   | 931 kB 4.3 MB/s eta 0:00:01\r\u001b[K     |█████████████████████████████▎  | 942 kB 4.3 MB/s eta 0:00:01\r\u001b[K     |█████████████████████████████▌  | 952 kB 4.3 MB/s eta 0:00:01\r\u001b[K     |█████████████████████████████▉  | 962 kB 4.3 MB/s eta 0:00:01\r\u001b[K     |██████████████████████████████▏ | 972 kB 4.3 MB/s eta 0:00:01\r\u001b[K     |██████████████████████████████▌ | 983 kB 4.3 MB/s eta 0:00:01\r\u001b[K     |██████████████████████████████▉ | 993 kB 4.3 MB/s eta 0:00:01\r\u001b[K     |███████████████████████████████▏| 1.0 MB 4.3 MB/s eta 0:00:01\r\u001b[K     |███████████████████████████████▌| 1.0 MB 4.3 MB/s eta 0:00:01\r\u001b[K     |███████████████████████████████▊| 1.0 MB 4.3 MB/s eta 0:00:01\r\u001b[K     |████████████████████████████████| 1.0 MB 4.3 MB/s \n",
            "\u001b[?25hRequirement already satisfied: pandas>=0.25.0 in /usr/local/lib/python3.7/dist-packages (from geopandas) (1.1.5)\n",
            "Requirement already satisfied: shapely>=1.6 in /usr/local/lib/python3.7/dist-packages (from geopandas) (1.8.0)\n",
            "Collecting pyproj>=2.2.0\n",
            "  Downloading pyproj-3.2.1-cp37-cp37m-manylinux2010_x86_64.whl (6.3 MB)\n",
            "\u001b[K     |████████████████████████████████| 6.3 MB 60.8 MB/s \n",
            "\u001b[?25hCollecting fiona>=1.8\n",
            "  Downloading Fiona-1.8.20-cp37-cp37m-manylinux1_x86_64.whl (15.4 MB)\n",
            "\u001b[K     |████████████████████████████████| 15.4 MB 74.2 MB/s \n",
            "\u001b[?25hRequirement already satisfied: certifi in /usr/local/lib/python3.7/dist-packages (from fiona>=1.8->geopandas) (2021.10.8)\n",
            "Requirement already satisfied: attrs>=17 in /usr/local/lib/python3.7/dist-packages (from fiona>=1.8->geopandas) (21.4.0)\n",
            "Collecting click-plugins>=1.0\n",
            "  Downloading click_plugins-1.1.1-py2.py3-none-any.whl (7.5 kB)\n",
            "Collecting munch\n",
            "  Downloading munch-2.5.0-py2.py3-none-any.whl (10 kB)\n",
            "Collecting cligj>=0.5\n",
            "  Downloading cligj-0.7.2-py3-none-any.whl (7.1 kB)\n",
            "Requirement already satisfied: setuptools in /usr/local/lib/python3.7/dist-packages (from fiona>=1.8->geopandas) (57.4.0)\n",
            "Requirement already satisfied: click>=4.0 in /usr/local/lib/python3.7/dist-packages (from fiona>=1.8->geopandas) (7.1.2)\n",
            "Requirement already satisfied: six>=1.7 in /usr/local/lib/python3.7/dist-packages (from fiona>=1.8->geopandas) (1.15.0)\n",
            "Requirement already satisfied: pytz>=2017.2 in /usr/local/lib/python3.7/dist-packages (from pandas>=0.25.0->geopandas) (2018.9)\n",
            "Requirement already satisfied: numpy>=1.15.4 in /usr/local/lib/python3.7/dist-packages (from pandas>=0.25.0->geopandas) (1.19.5)\n",
            "Requirement already satisfied: python-dateutil>=2.7.3 in /usr/local/lib/python3.7/dist-packages (from pandas>=0.25.0->geopandas) (2.8.2)\n",
            "Installing collected packages: munch, cligj, click-plugins, pyproj, fiona, geopandas\n",
            "Successfully installed click-plugins-1.1.1 cligj-0.7.2 fiona-1.8.20 geopandas-0.10.2 munch-2.5.0 pyproj-3.2.1\n"
          ]
        }
      ]
    },
    {
      "cell_type": "code",
      "execution_count": 113,
      "metadata": {
        "id": "RUkOrA3HRKaI"
      },
      "outputs": [],
      "source": [
        "#Import necessary libraries\n",
        "import pandas as pd\n",
        "import numpy as np\n",
        "import geopandas as gpd"
      ]
    },
    {
      "cell_type": "code",
      "source": [
        "#Import dataset for townland, County, Electoral\n",
        "townland_df = pd.read_csv('Townlands.csv') # for Townland\n",
        "county_df=pd.read_csv('County.csv') # For County\n",
        "town_df=pd.read_csv('Electoral.csv') # For Town"
      ],
      "metadata": {
        "colab": {
          "base_uri": "https://localhost:8080/"
        },
        "id": "BF-gcucmRaBS",
        "outputId": "a233367a-083a-4f8c-8fc4-7f74b66b7849"
      },
      "execution_count": 114,
      "outputs": [
        {
          "output_type": "stream",
          "name": "stderr",
          "text": [
            "/usr/local/lib/python3.7/dist-packages/IPython/core/interactiveshell.py:2718: DtypeWarning: Columns (22) have mixed types.Specify dtype option on import or set low_memory=False.\n",
            "  interactivity=interactivity, compiler=compiler, result=result)\n"
          ]
        }
      ]
    },
    {
      "cell_type": "code",
      "source": [
        "#Select only relevant columns\n",
        "town_df=town_df[[\"English_Name\", \"ITM_E\",\"ITM_N\"]]\n",
        "county_df=county_df[[\"English_Name\", \"ITM_E\",\"ITM_N\"]]\n",
        "townland_df=townland_df[[\"English_Name\", \"ITM_E\",\"ITM_N\"]]"
      ],
      "metadata": {
        "id": "o3PhNNa2LFnm"
      },
      "execution_count": 116,
      "outputs": []
    },
    {
      "cell_type": "code",
      "source": [
        "#Function to find Townland\n",
        "def find_townland_(townland_name,town_name,county_name):\n",
        "  townland_filtered_df=townland_df.query('English_Name == @townland_name')\n",
        "  townland_count=len(townland_filtered_df.index)\n",
        "  if(townland_count==1):\n",
        "    #Return Exact match\n",
        "    return (townland_filtered_df)\n",
        "  elif(townland_count>1):\n",
        "    found_town_df=find_town_(town_name,county_name)\n",
        "    return find_closest_coordinates(townland_filtered_df,found_town_df)\n",
        "  else:\n",
        "    #no match found for this townloand , look for the relevant town and return co-ordinates\n",
        "    return find_town_(town_name,county_name)"
      ],
      "metadata": {
        "id": "ftMikAH3Mrel"
      },
      "execution_count": 157,
      "outputs": []
    },
    {
      "cell_type": "code",
      "source": [
        "#Function to find Town\n",
        "def find_town_(town_name, county_name) :\n",
        "  town_filtered_df=town_df.query('English_Name == @town_name')\n",
        "  town_count=len(town_filtered_df.index)\n",
        "  if(town_count==1): #Found exact match\n",
        "    return(town_filtered_df)\n",
        "  elif(town_count>1):\n",
        "    found_county_df=find_county(county_name)\n",
        "    return find_closest_coordinates(town_filtered_df,found_county_df)\n",
        "  else:\n",
        "    #no match found for given town, search for relevant county\n",
        "    return find_county(county_name)"
      ],
      "metadata": {
        "id": "t8fWJHrlVPKg"
      },
      "execution_count": 155,
      "outputs": []
    },
    {
      "cell_type": "code",
      "source": [
        "#Function to find county\n",
        "def find_county(county_name):\n",
        "  county_filtered_df=county_df.query('English_Name == @county_name')\n",
        "  #As there is only 1 county, we won't check for duplicates \n",
        "  if(len(county_filtered_df.index)<1):\n",
        "    list_query=[county_name, 0, 0]\n",
        "    return pd.DataFrame([list_query], columns = ['English_Name','ITM_E','ITM_N'] )\n",
        "  return (county_filtered_df)"
      ],
      "metadata": {
        "id": "LzACYbS-ZfTD"
      },
      "execution_count": 300,
      "outputs": []
    },
    {
      "cell_type": "code",
      "source": [
        "#Function to find the closest co-ordinates for the given location\n",
        "def find_closest_coordinates(parentdf,childdf):\n",
        "  ITM_E_df=parentdf.iloc[(parentdf['ITM_E']-childdf.iloc[0]['ITM_E']).abs().argsort()[:1]]\n",
        "  ITM_N_df=parentdf.iloc[(parentdf['ITM_N']-childdf.iloc[0]['ITM_N']).abs().argsort()[:1]]\n",
        "  df_merge = pd.merge(ITM_E_df, ITM_E_df, how='inner')\n",
        "  return(df_merge)"
      ],
      "metadata": {
        "id": "2NWI7AdDZsbd"
      },
      "execution_count": 222,
      "outputs": []
    },
    {
      "cell_type": "code",
      "source": [
        "#Function to change format of the input string\n",
        "def change_location_format_(query):\n",
        "  list_query = query.upper().split(\",\")\n",
        "  if(len(list_query)<3): #If there is no townland\n",
        "    townland=''\n",
        "  else:\n",
        "    townland=list_query[-3].strip()\n",
        "  town=list_query[-2].strip()\n",
        "  county=list_query[-1].strip()\n",
        "  return \"\"+townland+','+town+','+county+\"\"\n"
      ],
      "metadata": {
        "id": "uwFHzSY9jLI-"
      },
      "execution_count": 307,
      "outputs": []
    },
    {
      "cell_type": "code",
      "source": [
        "#To select only english_name,ITM_E,ITM_N from the received output\n",
        "def select_value_only_(df):\n",
        "  return (df.iloc[0]['English_Name'],df.iloc[0]['ITM_E'],df.iloc[0]['ITM_N'])"
      ],
      "metadata": {
        "id": "gdMt2IFICIfI"
      },
      "execution_count": 306,
      "outputs": []
    },
    {
      "cell_type": "code",
      "source": [
        "test_df=pd.read_csv('addresses_for_task.csv') #Test file to check Output"
      ],
      "metadata": {
        "id": "YxBFM8yxe5n2"
      },
      "execution_count": 301,
      "outputs": []
    },
    {
      "cell_type": "code",
      "source": [
        "#Convert the given address to uppercase and separate into 3 diff columns using delimeter ,\n",
        "test_df['Address_Upper'] = test_df.apply(lambda row : change_location_format_(row['Address']), axis = 1)\n",
        "test_df[['townland', 'town', 'county']] =test_df['Address_Upper'].str.split(',', expand=True)\n",
        "# Column output will conatin the geo co-ordinates for closest location\n",
        "test_df['Output'] = test_df.apply(lambda row : (select_value_only_(find_townland_(row['townland'],\n",
        "                                  row['town'],row['county']))), axis = 1)\n",
        "#Converting Output into 3 separate columns\n",
        "new_col_list = ['Clostest_Location', 'ITM_E', 'ITM_N']\n",
        "for n,col in enumerate(new_col_list):\n",
        "    test_df[col] = test_df['Output'].apply(lambda location: location[n])"
      ],
      "metadata": {
        "id": "RxqHtVNufFVO"
      },
      "execution_count": 302,
      "outputs": []
    },
    {
      "cell_type": "code",
      "source": [
        "#Function to convert ITM coordinates in to the usual Geo co-ordinates\n",
        "def create_geodf_from_GPS (df, x, y, crs):\n",
        "\n",
        "   locations = gpd.points_from_xy(x, y)\n",
        "   geo_df = gpd.GeoDataFrame(df, geometry=locations)\n",
        "   geo_df.crs = crs\n",
        "   return geo_df"
      ],
      "metadata": {
        "id": "OzZEQBS4Tt11"
      },
      "execution_count": 303,
      "outputs": []
    },
    {
      "cell_type": "code",
      "source": [
        "test_df_geo = create_geodf_from_GPS(test_df, x=test_df[\"ITM_E\"], y=test_df[\"ITM_N\"], crs = 'epsg:2157')\n",
        "test_df_geo = test_df_geo.to_crs('epsg:4326')\n",
        "test_df_geo=test_df_geo[[\"Address\", \"ITM_E\",\"ITM_N\",\"geometry\"]]\n",
        "test_df_geo.rename(columns={'geometry':'Geo Co-ordinates'}, inplace=True)\n",
        "test_df_geo.to_csv('Address_Output.csv',index=False)"
      ],
      "metadata": {
        "id": "v68YVeuzUesn"
      },
      "execution_count": 305,
      "outputs": []
    }
  ]
}